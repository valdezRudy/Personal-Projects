{
 "cells": [
  {
   "cell_type": "markdown",
   "id": "5d38a9d7-a9ca-4603-a6b6-1d3b3f3ef275",
   "metadata": {},
   "source": [
    "# Final Project"
   ]
  },
  {
   "cell_type": "markdown",
   "id": "06f4286a-dab9-4031-aab6-1d1a536d20fb",
   "metadata": {},
   "source": [
    "This dataset was taken from Kaggle, and it includes two csv files of US census data from 2015 and 2017. The data set is made of 74,000 rows and 35 columns of census data by census tract, which means statistical subdivisions of a county, per state. We will be trying to answer questions related to this dataset and see if we can find any interesting things out, or predict some factors."
   ]
  },
  {
   "cell_type": "markdown",
   "id": "0b83b9fb-2f76-4ffd-986e-b21a3c45af25",
   "metadata": {},
   "source": [
    "We will start out by cleaning up the data in both of our tables"
   ]
  },
  {
   "cell_type": "markdown",
   "id": "9ea3121b-463d-4af6-abd2-55f1308d4a8b",
   "metadata": {},
   "source": [
    "Questions: \n",
    "1. Is it possible to predict, based on the poverty ratings of a county or census tract, which county will be most likely to increase or decrease their poverty ratings?\n",
    "2. Do counties with private work and public work have a higher or lower income across time?\n",
    "3. Is it possible to predict which county will improve their income per capita from 2015 to 2017 based on other statistics in the data set? This could include employment, transit, private or public sector statistics in the data set.\n",
    "4. Is it possible to predict an increase or decrease in unemployment based on private and public work available by county or by any other measures?"
   ]
  },
  {
   "cell_type": "markdown",
   "id": "21776218-769a-4910-8e8c-d975de823d1b",
   "metadata": {},
   "source": [
    "#### Census data 2015"
   ]
  },
  {
   "cell_type": "code",
   "execution_count": 173,
   "id": "39b34359-7e79-4379-933a-a3ed627913d1",
   "metadata": {
    "tags": []
   },
   "outputs": [],
   "source": [
    "import pandas as pd\n",
    "from sklearn.model_selection import train_test_split\n",
    "from sklearn.linear_model import LinearRegression\n",
    "from sklearn.metrics import mean_squared_error\n",
    "import numpy as np\n",
    "import matplotlib.pyplot as plt\n",
    "import seaborn as sns"
   ]
  },
  {
   "cell_type": "markdown",
   "id": "6e8bffe8-f6cb-44ca-a8b2-e110af9fc181",
   "metadata": {},
   "source": [
    "Below we performed data cleaning by removing columns that included the ID's of the counties subdivisions."
   ]
  },
  {
   "cell_type": "code",
   "execution_count": 58,
   "id": "9e20bd93-791b-486c-839e-7e4ed17e6509",
   "metadata": {
    "jupyter": {
     "source_hidden": true
    },
    "tags": []
   },
   "outputs": [
    {
     "data": {
      "text/html": [
       "<div>\n",
       "<style scoped>\n",
       "    .dataframe tbody tr th:only-of-type {\n",
       "        vertical-align: middle;\n",
       "    }\n",
       "\n",
       "    .dataframe tbody tr th {\n",
       "        vertical-align: top;\n",
       "    }\n",
       "\n",
       "    .dataframe thead th {\n",
       "        text-align: right;\n",
       "    }\n",
       "</style>\n",
       "<table border=\"1\" class=\"dataframe\">\n",
       "  <thead>\n",
       "    <tr style=\"text-align: right;\">\n",
       "      <th></th>\n",
       "      <th>State</th>\n",
       "      <th>County</th>\n",
       "      <th>TotalPop</th>\n",
       "      <th>Men</th>\n",
       "      <th>Women</th>\n",
       "      <th>Hispanic</th>\n",
       "      <th>White</th>\n",
       "      <th>Black</th>\n",
       "      <th>Native</th>\n",
       "      <th>Asian</th>\n",
       "      <th>...</th>\n",
       "      <th>Walk</th>\n",
       "      <th>OtherTransp</th>\n",
       "      <th>WorkAtHome</th>\n",
       "      <th>MeanCommute</th>\n",
       "      <th>Employed</th>\n",
       "      <th>PrivateWork</th>\n",
       "      <th>PublicWork</th>\n",
       "      <th>SelfEmployed</th>\n",
       "      <th>FamilyWork</th>\n",
       "      <th>Unemployment</th>\n",
       "    </tr>\n",
       "  </thead>\n",
       "  <tbody>\n",
       "    <tr>\n",
       "      <th>0</th>\n",
       "      <td>Alabama</td>\n",
       "      <td>Autauga</td>\n",
       "      <td>1948</td>\n",
       "      <td>940</td>\n",
       "      <td>1008</td>\n",
       "      <td>0.9</td>\n",
       "      <td>87.4</td>\n",
       "      <td>7.7</td>\n",
       "      <td>0.3</td>\n",
       "      <td>0.6</td>\n",
       "      <td>...</td>\n",
       "      <td>0.5</td>\n",
       "      <td>2.3</td>\n",
       "      <td>2.1</td>\n",
       "      <td>25.0</td>\n",
       "      <td>943</td>\n",
       "      <td>77.1</td>\n",
       "      <td>18.3</td>\n",
       "      <td>4.6</td>\n",
       "      <td>0.0</td>\n",
       "      <td>5.4</td>\n",
       "    </tr>\n",
       "    <tr>\n",
       "      <th>1</th>\n",
       "      <td>Alabama</td>\n",
       "      <td>Autauga</td>\n",
       "      <td>2156</td>\n",
       "      <td>1059</td>\n",
       "      <td>1097</td>\n",
       "      <td>0.8</td>\n",
       "      <td>40.4</td>\n",
       "      <td>53.3</td>\n",
       "      <td>0.0</td>\n",
       "      <td>2.3</td>\n",
       "      <td>...</td>\n",
       "      <td>0.0</td>\n",
       "      <td>0.7</td>\n",
       "      <td>0.0</td>\n",
       "      <td>23.4</td>\n",
       "      <td>753</td>\n",
       "      <td>77.0</td>\n",
       "      <td>16.9</td>\n",
       "      <td>6.1</td>\n",
       "      <td>0.0</td>\n",
       "      <td>13.3</td>\n",
       "    </tr>\n",
       "    <tr>\n",
       "      <th>2</th>\n",
       "      <td>Alabama</td>\n",
       "      <td>Autauga</td>\n",
       "      <td>2968</td>\n",
       "      <td>1364</td>\n",
       "      <td>1604</td>\n",
       "      <td>0.0</td>\n",
       "      <td>74.5</td>\n",
       "      <td>18.6</td>\n",
       "      <td>0.5</td>\n",
       "      <td>1.4</td>\n",
       "      <td>...</td>\n",
       "      <td>0.0</td>\n",
       "      <td>0.0</td>\n",
       "      <td>2.5</td>\n",
       "      <td>19.6</td>\n",
       "      <td>1373</td>\n",
       "      <td>64.1</td>\n",
       "      <td>23.6</td>\n",
       "      <td>12.3</td>\n",
       "      <td>0.0</td>\n",
       "      <td>6.2</td>\n",
       "    </tr>\n",
       "    <tr>\n",
       "      <th>3</th>\n",
       "      <td>Alabama</td>\n",
       "      <td>Autauga</td>\n",
       "      <td>4423</td>\n",
       "      <td>2172</td>\n",
       "      <td>2251</td>\n",
       "      <td>10.5</td>\n",
       "      <td>82.8</td>\n",
       "      <td>3.7</td>\n",
       "      <td>1.6</td>\n",
       "      <td>0.0</td>\n",
       "      <td>...</td>\n",
       "      <td>0.0</td>\n",
       "      <td>2.6</td>\n",
       "      <td>1.6</td>\n",
       "      <td>25.3</td>\n",
       "      <td>1782</td>\n",
       "      <td>75.7</td>\n",
       "      <td>21.2</td>\n",
       "      <td>3.1</td>\n",
       "      <td>0.0</td>\n",
       "      <td>10.8</td>\n",
       "    </tr>\n",
       "    <tr>\n",
       "      <th>4</th>\n",
       "      <td>Alabama</td>\n",
       "      <td>Autauga</td>\n",
       "      <td>10763</td>\n",
       "      <td>4922</td>\n",
       "      <td>5841</td>\n",
       "      <td>0.7</td>\n",
       "      <td>68.5</td>\n",
       "      <td>24.8</td>\n",
       "      <td>0.0</td>\n",
       "      <td>3.8</td>\n",
       "      <td>...</td>\n",
       "      <td>0.0</td>\n",
       "      <td>0.6</td>\n",
       "      <td>0.9</td>\n",
       "      <td>24.8</td>\n",
       "      <td>5037</td>\n",
       "      <td>67.1</td>\n",
       "      <td>27.6</td>\n",
       "      <td>5.3</td>\n",
       "      <td>0.0</td>\n",
       "      <td>4.2</td>\n",
       "    </tr>\n",
       "  </tbody>\n",
       "</table>\n",
       "<p>5 rows × 36 columns</p>\n",
       "</div>"
      ],
      "text/plain": [
       "     State   County  TotalPop   Men  Women  Hispanic  White  Black  Native  \\\n",
       "0  Alabama  Autauga      1948   940   1008       0.9   87.4    7.7     0.3   \n",
       "1  Alabama  Autauga      2156  1059   1097       0.8   40.4   53.3     0.0   \n",
       "2  Alabama  Autauga      2968  1364   1604       0.0   74.5   18.6     0.5   \n",
       "3  Alabama  Autauga      4423  2172   2251      10.5   82.8    3.7     1.6   \n",
       "4  Alabama  Autauga     10763  4922   5841       0.7   68.5   24.8     0.0   \n",
       "\n",
       "   Asian  ...  Walk  OtherTransp  WorkAtHome  MeanCommute  Employed  \\\n",
       "0    0.6  ...   0.5          2.3         2.1         25.0       943   \n",
       "1    2.3  ...   0.0          0.7         0.0         23.4       753   \n",
       "2    1.4  ...   0.0          0.0         2.5         19.6      1373   \n",
       "3    0.0  ...   0.0          2.6         1.6         25.3      1782   \n",
       "4    3.8  ...   0.0          0.6         0.9         24.8      5037   \n",
       "\n",
       "   PrivateWork  PublicWork  SelfEmployed  FamilyWork  Unemployment  \n",
       "0         77.1        18.3           4.6         0.0           5.4  \n",
       "1         77.0        16.9           6.1         0.0          13.3  \n",
       "2         64.1        23.6          12.3         0.0           6.2  \n",
       "3         75.7        21.2           3.1         0.0          10.8  \n",
       "4         67.1        27.6           5.3         0.0           4.2  \n",
       "\n",
       "[5 rows x 36 columns]"
      ]
     },
     "execution_count": 58,
     "metadata": {},
     "output_type": "execute_result"
    }
   ],
   "source": [
    "census_2015 = pd.read_csv(r\"C:\\Users\\valde\\Downloads\\2015CensusData.csv\")\n",
    "census_2015 = census_2015.drop(columns = ['CensusTract'], axis = 1)\n",
    "census_2015.head()"
   ]
  },
  {
   "cell_type": "markdown",
   "id": "64ae6acf-6430-4d27-a744-7b69e0ec91c2",
   "metadata": {},
   "source": [
    "#### Census data 2017"
   ]
  },
  {
   "cell_type": "code",
   "execution_count": 7,
   "id": "908ed63e-2f9a-41d3-ad01-aa7deb028124",
   "metadata": {
    "jupyter": {
     "source_hidden": true
    },
    "tags": []
   },
   "outputs": [
    {
     "data": {
      "text/html": [
       "<div>\n",
       "<style scoped>\n",
       "    .dataframe tbody tr th:only-of-type {\n",
       "        vertical-align: middle;\n",
       "    }\n",
       "\n",
       "    .dataframe tbody tr th {\n",
       "        vertical-align: top;\n",
       "    }\n",
       "\n",
       "    .dataframe thead th {\n",
       "        text-align: right;\n",
       "    }\n",
       "</style>\n",
       "<table border=\"1\" class=\"dataframe\">\n",
       "  <thead>\n",
       "    <tr style=\"text-align: right;\">\n",
       "      <th></th>\n",
       "      <th>State</th>\n",
       "      <th>County</th>\n",
       "      <th>TotalPop</th>\n",
       "      <th>Men</th>\n",
       "      <th>Women</th>\n",
       "      <th>Hispanic</th>\n",
       "      <th>White</th>\n",
       "      <th>Black</th>\n",
       "      <th>Native</th>\n",
       "      <th>Asian</th>\n",
       "      <th>...</th>\n",
       "      <th>Walk</th>\n",
       "      <th>OtherTransp</th>\n",
       "      <th>WorkAtHome</th>\n",
       "      <th>MeanCommute</th>\n",
       "      <th>Employed</th>\n",
       "      <th>PrivateWork</th>\n",
       "      <th>PublicWork</th>\n",
       "      <th>SelfEmployed</th>\n",
       "      <th>FamilyWork</th>\n",
       "      <th>Unemployment</th>\n",
       "    </tr>\n",
       "  </thead>\n",
       "  <tbody>\n",
       "    <tr>\n",
       "      <th>0</th>\n",
       "      <td>Alabama</td>\n",
       "      <td>Autauga County</td>\n",
       "      <td>1845</td>\n",
       "      <td>899</td>\n",
       "      <td>946</td>\n",
       "      <td>2.4</td>\n",
       "      <td>86.3</td>\n",
       "      <td>5.2</td>\n",
       "      <td>0.0</td>\n",
       "      <td>1.2</td>\n",
       "      <td>...</td>\n",
       "      <td>0.5</td>\n",
       "      <td>0.0</td>\n",
       "      <td>2.1</td>\n",
       "      <td>24.5</td>\n",
       "      <td>881</td>\n",
       "      <td>74.2</td>\n",
       "      <td>21.2</td>\n",
       "      <td>4.5</td>\n",
       "      <td>0.0</td>\n",
       "      <td>4.6</td>\n",
       "    </tr>\n",
       "    <tr>\n",
       "      <th>1</th>\n",
       "      <td>Alabama</td>\n",
       "      <td>Autauga County</td>\n",
       "      <td>2172</td>\n",
       "      <td>1167</td>\n",
       "      <td>1005</td>\n",
       "      <td>1.1</td>\n",
       "      <td>41.6</td>\n",
       "      <td>54.5</td>\n",
       "      <td>0.0</td>\n",
       "      <td>1.0</td>\n",
       "      <td>...</td>\n",
       "      <td>0.0</td>\n",
       "      <td>0.5</td>\n",
       "      <td>0.0</td>\n",
       "      <td>22.2</td>\n",
       "      <td>852</td>\n",
       "      <td>75.9</td>\n",
       "      <td>15.0</td>\n",
       "      <td>9.0</td>\n",
       "      <td>0.0</td>\n",
       "      <td>3.4</td>\n",
       "    </tr>\n",
       "    <tr>\n",
       "      <th>2</th>\n",
       "      <td>Alabama</td>\n",
       "      <td>Autauga County</td>\n",
       "      <td>3385</td>\n",
       "      <td>1533</td>\n",
       "      <td>1852</td>\n",
       "      <td>8.0</td>\n",
       "      <td>61.4</td>\n",
       "      <td>26.5</td>\n",
       "      <td>0.6</td>\n",
       "      <td>0.7</td>\n",
       "      <td>...</td>\n",
       "      <td>1.0</td>\n",
       "      <td>0.8</td>\n",
       "      <td>1.5</td>\n",
       "      <td>23.1</td>\n",
       "      <td>1482</td>\n",
       "      <td>73.3</td>\n",
       "      <td>21.1</td>\n",
       "      <td>4.8</td>\n",
       "      <td>0.7</td>\n",
       "      <td>4.7</td>\n",
       "    </tr>\n",
       "    <tr>\n",
       "      <th>3</th>\n",
       "      <td>Alabama</td>\n",
       "      <td>Autauga County</td>\n",
       "      <td>4267</td>\n",
       "      <td>2001</td>\n",
       "      <td>2266</td>\n",
       "      <td>9.6</td>\n",
       "      <td>80.3</td>\n",
       "      <td>7.1</td>\n",
       "      <td>0.5</td>\n",
       "      <td>0.2</td>\n",
       "      <td>...</td>\n",
       "      <td>1.5</td>\n",
       "      <td>2.9</td>\n",
       "      <td>2.1</td>\n",
       "      <td>25.9</td>\n",
       "      <td>1849</td>\n",
       "      <td>75.8</td>\n",
       "      <td>19.7</td>\n",
       "      <td>4.5</td>\n",
       "      <td>0.0</td>\n",
       "      <td>6.1</td>\n",
       "    </tr>\n",
       "    <tr>\n",
       "      <th>4</th>\n",
       "      <td>Alabama</td>\n",
       "      <td>Autauga County</td>\n",
       "      <td>9965</td>\n",
       "      <td>5054</td>\n",
       "      <td>4911</td>\n",
       "      <td>0.9</td>\n",
       "      <td>77.5</td>\n",
       "      <td>16.4</td>\n",
       "      <td>0.0</td>\n",
       "      <td>3.1</td>\n",
       "      <td>...</td>\n",
       "      <td>0.8</td>\n",
       "      <td>0.3</td>\n",
       "      <td>0.7</td>\n",
       "      <td>21.0</td>\n",
       "      <td>4787</td>\n",
       "      <td>71.4</td>\n",
       "      <td>24.1</td>\n",
       "      <td>4.5</td>\n",
       "      <td>0.0</td>\n",
       "      <td>2.3</td>\n",
       "    </tr>\n",
       "  </tbody>\n",
       "</table>\n",
       "<p>5 rows × 36 columns</p>\n",
       "</div>"
      ],
      "text/plain": [
       "     State          County  TotalPop   Men  Women  Hispanic  White  Black  \\\n",
       "0  Alabama  Autauga County      1845   899    946       2.4   86.3    5.2   \n",
       "1  Alabama  Autauga County      2172  1167   1005       1.1   41.6   54.5   \n",
       "2  Alabama  Autauga County      3385  1533   1852       8.0   61.4   26.5   \n",
       "3  Alabama  Autauga County      4267  2001   2266       9.6   80.3    7.1   \n",
       "4  Alabama  Autauga County      9965  5054   4911       0.9   77.5   16.4   \n",
       "\n",
       "   Native  Asian  ...  Walk  OtherTransp  WorkAtHome  MeanCommute  Employed  \\\n",
       "0     0.0    1.2  ...   0.5          0.0         2.1         24.5       881   \n",
       "1     0.0    1.0  ...   0.0          0.5         0.0         22.2       852   \n",
       "2     0.6    0.7  ...   1.0          0.8         1.5         23.1      1482   \n",
       "3     0.5    0.2  ...   1.5          2.9         2.1         25.9      1849   \n",
       "4     0.0    3.1  ...   0.8          0.3         0.7         21.0      4787   \n",
       "\n",
       "   PrivateWork  PublicWork  SelfEmployed  FamilyWork  Unemployment  \n",
       "0         74.2        21.2           4.5         0.0           4.6  \n",
       "1         75.9        15.0           9.0         0.0           3.4  \n",
       "2         73.3        21.1           4.8         0.7           4.7  \n",
       "3         75.8        19.7           4.5         0.0           6.1  \n",
       "4         71.4        24.1           4.5         0.0           2.3  \n",
       "\n",
       "[5 rows x 36 columns]"
      ]
     },
     "execution_count": 7,
     "metadata": {},
     "output_type": "execute_result"
    }
   ],
   "source": [
    "census_2017 = pd.read_csv(r\"C:\\Users\\valde\\Downloads\\2017CensusData.csv\")\n",
    "census_2017 = census_2017.drop(columns = ['TractId'], axis = 1)\n",
    "census_2017.head()"
   ]
  },
  {
   "cell_type": "markdown",
   "id": "e1adf919-da23-4745-9137-122499aed94b",
   "metadata": {},
   "source": [
    "#### 1. Is it possible to predict, based on the poverty ratings of a county or census tract, which county will be most likely to increase or decrease their poverty ratings?"
   ]
  },
  {
   "cell_type": "markdown",
   "id": "21ea6e9f-54f5-4fbd-b3fc-4a84f0650378",
   "metadata": {},
   "source": [
    "To perform the operations that we did below we first had to start by reorganizing the data frame to include only the columns that we though would affect poverty ratings. We used groupby method to eliminate the repeat rows of counties and used the mean function to average all the values from the county subdivisions into the three columns below. In doing so we have the averages for each county in each state. "
   ]
  },
  {
   "cell_type": "code",
   "execution_count": 62,
   "id": "c51c03bf-deb5-4e5e-938b-e0ca8aff6a00",
   "metadata": {
    "jupyter": {
     "source_hidden": true
    },
    "tags": []
   },
   "outputs": [
    {
     "data": {
      "text/html": [
       "<div>\n",
       "<style scoped>\n",
       "    .dataframe tbody tr th:only-of-type {\n",
       "        vertical-align: middle;\n",
       "    }\n",
       "\n",
       "    .dataframe tbody tr th {\n",
       "        vertical-align: top;\n",
       "    }\n",
       "\n",
       "    .dataframe thead th {\n",
       "        text-align: right;\n",
       "    }\n",
       "</style>\n",
       "<table border=\"1\" class=\"dataframe\">\n",
       "  <thead>\n",
       "    <tr style=\"text-align: right;\">\n",
       "      <th></th>\n",
       "      <th>State</th>\n",
       "      <th>County</th>\n",
       "      <th>Poverty</th>\n",
       "      <th>IncomePerCap</th>\n",
       "      <th>Unemployment</th>\n",
       "    </tr>\n",
       "  </thead>\n",
       "  <tbody>\n",
       "    <tr>\n",
       "      <th>0</th>\n",
       "      <td>Alabama</td>\n",
       "      <td>Autauga</td>\n",
       "      <td>14.1</td>\n",
       "      <td>24386.9</td>\n",
       "      <td>8.2</td>\n",
       "    </tr>\n",
       "    <tr>\n",
       "      <th>1</th>\n",
       "      <td>Alabama</td>\n",
       "      <td>Baldwin</td>\n",
       "      <td>14.4</td>\n",
       "      <td>26842.8</td>\n",
       "      <td>8.2</td>\n",
       "    </tr>\n",
       "    <tr>\n",
       "      <th>2</th>\n",
       "      <td>Alabama</td>\n",
       "      <td>Barbour</td>\n",
       "      <td>26.8</td>\n",
       "      <td>17104.6</td>\n",
       "      <td>15.8</td>\n",
       "    </tr>\n",
       "    <tr>\n",
       "      <th>3</th>\n",
       "      <td>Alabama</td>\n",
       "      <td>Bibb</td>\n",
       "      <td>15.6</td>\n",
       "      <td>18807.0</td>\n",
       "      <td>9.5</td>\n",
       "    </tr>\n",
       "    <tr>\n",
       "      <th>4</th>\n",
       "      <td>Alabama</td>\n",
       "      <td>Blount</td>\n",
       "      <td>17.3</td>\n",
       "      <td>20171.3</td>\n",
       "      <td>7.7</td>\n",
       "    </tr>\n",
       "  </tbody>\n",
       "</table>\n",
       "</div>"
      ],
      "text/plain": [
       "     State   County  Poverty  IncomePerCap  Unemployment\n",
       "0  Alabama  Autauga     14.1       24386.9           8.2\n",
       "1  Alabama  Baldwin     14.4       26842.8           8.2\n",
       "2  Alabama  Barbour     26.8       17104.6          15.8\n",
       "3  Alabama     Bibb     15.6       18807.0           9.5\n",
       "4  Alabama   Blount     17.3       20171.3           7.7"
      ]
     },
     "execution_count": 62,
     "metadata": {},
     "output_type": "execute_result"
    }
   ],
   "source": [
    "state_county_2015 = census_2015.groupby(by=['State', 'County', 'Poverty', 'IncomePerCap', 'Unemployment', 'Hispanic','White',\n",
    "                                            'Black','Native','Asian'], axis=0).sum()\n",
    "state_county_2015 = state_county_2015[['TotalPop']].reset_index()\n",
    "state_county_2015 = census_2015.groupby(['State', 'County'], as_index=False).mean()[['State', 'County', 'Poverty', 'IncomePerCap', 'Unemployment']]\n",
    "state_county_2015 = state_county_2015.round({'Poverty': 1, 'IncomePerCap': 1, 'Unemployment': 1})\n",
    "state_county_2015.head()"
   ]
  },
  {
   "cell_type": "markdown",
   "id": "5555c9ae-f759-412e-9e8d-6c4f69a43b19",
   "metadata": {},
   "source": [
    "Our next step in prediction was to see if there was any correlation in the values in the column, with our target variable, poverty ratings. In looking up how to do linear regression we found that one of the first steps was to see if there's a strong relationship between our independent variables and our target variable. To do this we used a correlation matrix to see what values correlate with each other. The values that most strongly correlate withg poverty are unemployment and income per cap. We decided to go with income per cap since it was the closest to 1. From the matrix, we gathered that as income per cap increased poverty decreased."
   ]
  },
  {
   "cell_type": "code",
   "execution_count": 176,
   "id": "3333a3fe-647d-4595-8238-664dd439bff1",
   "metadata": {
    "jupyter": {
     "source_hidden": true
    },
    "tags": []
   },
   "outputs": [
    {
     "data": {
      "text/plain": [
       "<AxesSubplot:>"
      ]
     },
     "execution_count": 176,
     "metadata": {},
     "output_type": "execute_result"
    },
    {
     "data": {
      "image/png": "[encoded data removed]",
      "text/plain": [
       "<Figure size 432x288 with 2 Axes>"
      ]
     },
     "metadata": {
      "needs_background": "light"
     },
     "output_type": "display_data"
    }
   ],
   "source": [
    "corr_matrix = state_county_2015.corr()\n",
    "sns.heatmap(corr_matrix, annot=True, cmap='coolwarm')"
   ]
  },
  {
   "cell_type": "markdown",
   "id": "f77dc1fc-70fc-4632-9846-59523ae2c5d7",
   "metadata": {},
   "source": [
    "Below we plotted a scatterplot with a regression line. To get to that we first had to reshape our x variable to a 2-dimensional array so that we could properly use the fit and predict models. We then used the .fit() method to train the model on our training data so that we can use other methods like predict. After we used .predict() to predict poverty rates based on our training data or X which is the income per cap. We then plotted the data and used a linear regression line to show the trend of the data."
   ]
  },
  {
   "cell_type": "code",
   "execution_count": 170,
   "id": "4fd44398-b4f2-48ff-a6ac-15117f5e137a",
   "metadata": {
    "jupyter": {
     "source_hidden": true
    },
    "tags": []
   },
   "outputs": [
    {
     "data": {
      "image/png": "[encoded data removed]",
      "text/plain": [
       "<Figure size 432x288 with 1 Axes>"
      ]
     },
     "metadata": {
      "needs_background": "light"
     },
     "output_type": "display_data"
    }
   ],
   "source": [
    "X = state_county_2015['IncomePerCap'].values.reshape(-1, 1)\n",
    "y = state_county_2015['Poverty'].values\n",
    "\n",
    "model.fit(X, y)\n",
    "\n",
    "y_pred = model.predict(X)\n",
    "\n",
    "plt.scatter(X, y, color='blue')\n",
    "plt.plot(X, y_pred, color='red')\n",
    "plt.xlabel('IncomePerCap')\n",
    "plt.ylabel('Poverty')\n",
    "plt.show()"
   ]
  },
  {
   "cell_type": "code",
   "execution_count": 186,
   "id": "1be58b61-1ab0-4f0b-98c9-ec36c6062c9a",
   "metadata": {
    "jupyter": {
     "source_hidden": true
    },
    "tags": []
   },
   "outputs": [
    {
     "name": "stdout",
     "output_type": "stream",
     "text": [
      "[ 31.8381404   21.81263951  11.78713861   1.76163772  -8.26386317\n",
      " -18.28936407]\n"
     ]
    }
   ],
   "source": [
    "X = state_county_2015['IncomePerCap'].values.reshape(-1, 1)\n",
    "y = state_county_2015['Poverty'].values\n",
    "\n",
    "model.fit(X, y)\n",
    "\n",
    "new_X = [[10000], [20000], [30000], [40000], [50000], [60000]] \n",
    "new_y_pred = model.predict(new_X)\n",
    "\n",
    "print(new_y_pred)"
   ]
  },
  {
   "cell_type": "markdown",
   "id": "e702c9c6-2ba8-4ad6-bd06-ce60a69957d0",
   "metadata": {},
   "source": [
    "Based on the model predictions we can see that as the income per capita increases then poverty decreases as well. After 50,000 the poverty rates go into the negatives which leads us to believe that  counties with a higher average of Income per capita tends to have low poverty."
   ]
  },
  {
   "cell_type": "markdown",
   "id": "6a7ca47f-2d4c-438a-b962-9fc5b7f99ca5",
   "metadata": {},
   "source": [
    "#### 4. Is it possible to predict unemployment based on any of the values given in the table? "
   ]
  },
  {
   "cell_type": "markdown",
   "id": "1c4c3323-f978-42f7-b5c8-bb84d99fe9b9",
   "metadata": {},
   "source": [
    "Just like the table above we had to remove some columns and groupby state and county to get the averages for the county values. We included what we thought would affect unemployment rates in this table. Since there are so many factors in this table that could affect unemployment we decided to go with these and see if they made an impact."
   ]
  },
  {
   "cell_type": "code",
   "execution_count": 163,
   "id": "24583d27-cfcb-4121-9784-45e622837adc",
   "metadata": {
    "jupyter": {
     "source_hidden": true
    },
    "tags": []
   },
   "outputs": [
    {
     "data": {
      "text/html": [
       "<div>\n",
       "<style scoped>\n",
       "    .dataframe tbody tr th:only-of-type {\n",
       "        vertical-align: middle;\n",
       "    }\n",
       "\n",
       "    .dataframe tbody tr th {\n",
       "        vertical-align: top;\n",
       "    }\n",
       "\n",
       "    .dataframe thead th {\n",
       "        text-align: right;\n",
       "    }\n",
       "</style>\n",
       "<table border=\"1\" class=\"dataframe\">\n",
       "  <thead>\n",
       "    <tr style=\"text-align: right;\">\n",
       "      <th></th>\n",
       "      <th>State</th>\n",
       "      <th>County</th>\n",
       "      <th>Income</th>\n",
       "      <th>Poverty</th>\n",
       "      <th>ChildPoverty</th>\n",
       "      <th>Employed</th>\n",
       "      <th>Unemployment</th>\n",
       "    </tr>\n",
       "  </thead>\n",
       "  <tbody>\n",
       "    <tr>\n",
       "      <th>0</th>\n",
       "      <td>Alabama</td>\n",
       "      <td>Autauga County</td>\n",
       "      <td>53567.5</td>\n",
       "      <td>14.6</td>\n",
       "      <td>21.7</td>\n",
       "      <td>2009.3</td>\n",
       "      <td>6.0</td>\n",
       "    </tr>\n",
       "    <tr>\n",
       "      <th>1</th>\n",
       "      <td>Alabama</td>\n",
       "      <td>Baldwin County</td>\n",
       "      <td>52732.2</td>\n",
       "      <td>12.9</td>\n",
       "      <td>17.3</td>\n",
       "      <td>2797.7</td>\n",
       "      <td>6.2</td>\n",
       "    </tr>\n",
       "    <tr>\n",
       "      <th>2</th>\n",
       "      <td>Alabama</td>\n",
       "      <td>Barbour County</td>\n",
       "      <td>32717.8</td>\n",
       "      <td>27.8</td>\n",
       "      <td>46.5</td>\n",
       "      <td>986.4</td>\n",
       "      <td>11.9</td>\n",
       "    </tr>\n",
       "    <tr>\n",
       "      <th>3</th>\n",
       "      <td>Alabama</td>\n",
       "      <td>Bibb County</td>\n",
       "      <td>44677.0</td>\n",
       "      <td>13.9</td>\n",
       "      <td>23.4</td>\n",
       "      <td>2042.8</td>\n",
       "      <td>8.8</td>\n",
       "    </tr>\n",
       "    <tr>\n",
       "      <th>4</th>\n",
       "      <td>Alabama</td>\n",
       "      <td>Blount County</td>\n",
       "      <td>46325.6</td>\n",
       "      <td>16.4</td>\n",
       "      <td>26.3</td>\n",
       "      <td>2375.6</td>\n",
       "      <td>4.8</td>\n",
       "    </tr>\n",
       "  </tbody>\n",
       "</table>\n",
       "</div>"
      ],
      "text/plain": [
       "     State          County   Income  Poverty  ChildPoverty  Employed  \\\n",
       "0  Alabama  Autauga County  53567.5     14.6          21.7    2009.3   \n",
       "1  Alabama  Baldwin County  52732.2     12.9          17.3    2797.7   \n",
       "2  Alabama  Barbour County  32717.8     27.8          46.5     986.4   \n",
       "3  Alabama     Bibb County  44677.0     13.9          23.4    2042.8   \n",
       "4  Alabama   Blount County  46325.6     16.4          26.3    2375.6   \n",
       "\n",
       "   Unemployment  \n",
       "0           6.0  \n",
       "1           6.2  \n",
       "2          11.9  \n",
       "3           8.8  \n",
       "4           4.8  "
      ]
     },
     "execution_count": 163,
     "metadata": {},
     "output_type": "execute_result"
    }
   ],
   "source": [
    "new_2017 = census_2017.groupby(by=['State', 'County'], axis=0).mean()\n",
    "new_2017 = new_2017.reset_index()[['State', 'County', 'Income', 'Poverty','ChildPoverty', 'Employed', 'Unemployment', 'TotalPop']]\n",
    "new_2017 = new_2017.round({'Income':1,'Poverty':1,'ChildPoverty':1,'Employed':1,'Unemployment':1})\n",
    "new_2017.drop('TotalPop', axis=1, inplace=True)\n",
    "new_2017.head()"
   ]
  },
  {
   "cell_type": "markdown",
   "id": "bc13ead2-f364-4a17-b64f-a09c605b5cee",
   "metadata": {},
   "source": [
    "This is our heatmap to see the strength of the correlations between the values in the table so we could see which one was strongest. After looking at all of them, we came the conclusion that the strongest correlation between our independent and dependent variable was unemployment and poverty, so we chose to use those variables for our training dataset."
   ]
  },
  {
   "cell_type": "code",
   "execution_count": 164,
   "id": "7a9c16d3-1c7d-478f-9dd5-b3392949fe96",
   "metadata": {
    "jupyter": {
     "source_hidden": true
    },
    "tags": []
   },
   "outputs": [
    {
     "data": {
      "text/plain": [
       "<AxesSubplot:>"
      ]
     },
     "execution_count": 164,
     "metadata": {},
     "output_type": "execute_result"
    },
    {
     "data": {
      "image/png": "[encoded data removed]",
      "text/plain": [
       "<Figure size 432x288 with 2 Axes>"
      ]
     },
     "metadata": {
      "needs_background": "light"
     },
     "output_type": "display_data"
    }
   ],
   "source": [
    "corr_matrix2 = new_2017.corr()\n",
    "sns.heatmap(corr_matrix2, annot=True, cmap='coolwarm')"
   ]
  },
  {
   "cell_type": "code",
   "execution_count": 179,
   "id": "968ffd63-0b5f-4b88-a535-c093d6f9162e",
   "metadata": {
    "jupyter": {
     "source_hidden": true
    },
    "tags": []
   },
   "outputs": [
    {
     "data": {
      "image/png": "[encoded data removed]",
      "text/plain": [
       "<Figure size 432x288 with 1 Axes>"
      ]
     },
     "metadata": {
      "needs_background": "light"
     },
     "output_type": "display_data"
    }
   ],
   "source": [
    "X = new_2017['Poverty'].values.reshape(-1, 1)\n",
    "y = new_2017['Unemployment'].values\n",
    "\n",
    "model.fit(X, y)\n",
    "\n",
    "y_pred = model.predict(X)\n",
    "\n",
    "plt.scatter(X, y, color='blue')\n",
    "plt.plot(X, y_pred, color='red')\n",
    "plt.xlabel('Poverty')\n",
    "plt.ylabel('Unemployment')\n",
    "plt.show()"
   ]
  },
  {
   "cell_type": "markdown",
   "id": "cd9128d8-6e2e-4c98-a438-5a8236002f58",
   "metadata": {},
   "source": [
    "Below are the predicted unemployment rates based on the poverty rates used in the new_x variable. "
   ]
  },
  {
   "cell_type": "code",
   "execution_count": 183,
   "id": "37fed721-2464-4ee4-85ce-b10ffa6e60d1",
   "metadata": {
    "jupyter": {
     "source_hidden": true
    },
    "tags": []
   },
   "outputs": [
    {
     "name": "stdout",
     "output_type": "stream",
     "text": [
      "[ 4.37953208  7.85015733 11.32078258 14.79140783 18.26203308]\n"
     ]
    }
   ],
   "source": [
    "X = new_2017['Poverty'].values.reshape(-1, 1)\n",
    "y = new_2017['Unemployment'].values\n",
    "\n",
    "model.fit(X, y)\n",
    "\n",
    "new_X = [[10], [20], [30], [40], [50]] \n",
    "new_y_pred = model.predict(new_X)\n",
    "\n",
    "print(new_y_pred)"
   ]
  }
 ],
 "metadata": {
  "kernelspec": {
   "display_name": "Python 3 (ipykernel)",
   "language": "python",
   "name": "python3"
  },
  "language_info": {
   "codemirror_mode": {
    "name": "ipython",
    "version": 3
   },
   "file_extension": ".py",
   "mimetype": "text/x-python",
   "name": "python",
   "nbconvert_exporter": "python",
   "pygments_lexer": "ipython3",
   "version": "3.9.12"
  }
 },
 "nbformat": 4,
 "nbformat_minor": 5
}
